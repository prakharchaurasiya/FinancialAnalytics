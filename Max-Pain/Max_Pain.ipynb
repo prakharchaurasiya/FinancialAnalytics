{
  "nbformat": 4,
  "nbformat_minor": 0,
  "metadata": {
    "colab": {
      "provenance": [],
      "collapsed_sections": []
    },
    "kernelspec": {
      "name": "python3",
      "display_name": "Python 3"
    },
    "language_info": {
      "name": "python"
    }
  },
  "cells": [
    {
      "cell_type": "code",
      "execution_count": 1,
      "metadata": {
        "id": "QqitG2hBJzae"
      },
      "outputs": [],
      "source": [
        "import pandas as pd\n",
        "import numpy as np\n",
        "import matplotlib.pyplot as plt\n",
        "\n",
        "def call_profit(strike, spot, premium=0, position='long'):\n",
        "  pnl = np.where(spot>strike, spot-strike, 0) - premium\n",
        "  if position == 'long':\n",
        "    return pnl\n",
        "  elif position == 'short':\n",
        "    return -1.0 * pnl\n",
        "  else:\n",
        "    return np.nan\n",
        "\n",
        "def put_profit(strike, spot, premium=0, position='long'):\n",
        "  pnl = np.where(spot<strike, strike-spot, 0) - premium\n",
        "  if position == 'long':\n",
        "    return pnl\n",
        "  elif position == 'short':\n",
        "    return -1.0 * pnl\n",
        "  else:\n",
        "    return np.nan\n",
        "\n",
        "def pain(strike, oi, typ='call'):\n",
        "  pain = []\n",
        "  for exspot in strike:\n",
        "    t = 0\n",
        "    for st, o in zip(strike, oi):\n",
        "      if typ == 'call':\n",
        "        t += call_profit(st, exspot)*o\n",
        "      if typ == 'put' :\n",
        "        t += put_profit(st, exspot)*o\n",
        "    pain.append(t)\n",
        "  return pain\n",
        "\n",
        "def to_num(x):\n",
        "  s = []\n",
        "  for el in x:\n",
        "    try:    \n",
        "      s.append(float(el))\n",
        "    except:\n",
        "      st = el.split(',')\n",
        "      for _ in st:\n",
        "        stri = ''.join(st)\n",
        "      s.append(float(stri))\n",
        "  return pd.Series(s)\n",
        "\n",
        "def max_pain(file_path_to_option_chain):\n",
        "  option_chain = pd.read_csv(file_path_to_option_chain, na_values='-', skiprows=1).fillna(0).apply(to_num)\n",
        "  cols = option_chain.columns\n",
        "  columns_of_interest = ['OI', 'VOLUME', 'IV', 'LTP', 'STRIKE PRICE', 'LTP.1', 'IV.1', 'VOLUME.1', 'OI.1']\n",
        "  oc = option_chain[columns_of_interest]\n",
        "  display(oc)\n",
        "  call_pain = pain(oc['STRIKE PRICE'], oc['OI'], typ='call')\n",
        "  put_pain = pain(oc['STRIKE PRICE'], oc['OI.1'], typ='put')\n",
        "  plt.figure(figsize=(16,9))\n",
        "  plt.bar(oc['STRIKE PRICE'], call_pain, width=3)\n",
        "  plt.bar(oc['STRIKE PRICE'], put_pain, width=3)\n",
        "  plt.show()\n",
        "  MAX_PAIN = pd.DataFrame()\n",
        "  MAX_PAIN['STRIKE PRICE'] = oc['STRIKE PRICE']\n",
        "  MAX_PAIN['CALL OI'] = oc['OI']\n",
        "  MAX_PAIN['PUT OI'] = oc['OI.1']\n",
        "  MAX_PAIN['CALL PAIN'] = pd.Series(call_pain)\n",
        "  MAX_PAIN['PUT PAIN'] = pd.Series(put_pain)\n",
        "  MAX_PAIN['TOTAL PAIN'] = MAX_PAIN['CALL PAIN'] + MAX_PAIN['PUT PAIN']\n",
        "  pcr = MAX_PAIN['PUT OI'].sum()/MAX_PAIN['CALL OI'].sum()\n",
        "  print('--------------------------')\n",
        "  print(f'PCR: {pcr}')\n",
        "  print('--------------------------')\n",
        "  display(MAX_PAIN.iloc[MAX_PAIN['TOTAL PAIN'].idxmin()])#.astype('int64'))\n",
        "  return MAX_PAIN"
      ]
    },
    {
      "cell_type": "code",
      "source": [
        "file_path = '/content/option-chain-ED-NIFTY-20-Oct-2022.csv'\n",
        "MAX_PAIN = max_pain(file_path)"
      ],
      "metadata": {
        "colab": {
          "base_uri": "https://localhost:8080/",
          "height": 1000
        },
        "id": "CTsjZC-qSVI3",
        "outputId": "2f8b1ad8-0f32-444c-ce95-3f811ed0fdfe"
      },
      "execution_count": 2,
      "outputs": [
        {
          "output_type": "display_data",
          "data": {
            "text/plain": [
              "          OI   VOLUME     IV     LTP  STRIKE PRICE    LTP.1   IV.1  VOLUME.1  \\\n",
              "0        1.0      0.0   0.00  2073.5       14950.0     0.20  96.88    1955.0   \n",
              "1        3.0      0.0   0.00  2283.2       15000.0     0.15  92.84   72248.0   \n",
              "2        0.0      0.0   0.00     0.0       15050.0     0.20  93.10     150.0   \n",
              "3        0.0      0.0   0.00     0.0       15100.0     0.25  92.91    1290.0   \n",
              "4        0.0      0.0   0.00     0.0       15150.0     0.20  89.34    1649.0   \n",
              "..       ...      ...    ...     ...           ...      ...    ...       ...   \n",
              "105    367.0    286.0  86.81     0.2       20200.0     0.00   0.00       0.0   \n",
              "106    191.0     72.0  96.96     0.6       20250.0     0.00   0.00       0.0   \n",
              "107    554.0    449.0  94.91     0.4       20300.0  3005.00   0.00       0.0   \n",
              "108    378.0    193.0  93.99     0.3       20350.0     0.00   0.00       0.0   \n",
              "109  14023.0  14772.0  92.28     0.2       20400.0     0.00   0.00       0.0   \n",
              "\n",
              "        OI.1  \n",
              "0     1439.0  \n",
              "1    25560.0  \n",
              "2      194.0  \n",
              "3     1231.0  \n",
              "4      357.0  \n",
              "..       ...  \n",
              "105      0.0  \n",
              "106      0.0  \n",
              "107      1.0  \n",
              "108      0.0  \n",
              "109      0.0  \n",
              "\n",
              "[110 rows x 9 columns]"
            ],
            "text/html": [
              "\n",
              "  <div id=\"df-17b4ab87-f692-4d0b-b5ba-18b73c470d50\">\n",
              "    <div class=\"colab-df-container\">\n",
              "      <div>\n",
              "<style scoped>\n",
              "    .dataframe tbody tr th:only-of-type {\n",
              "        vertical-align: middle;\n",
              "    }\n",
              "\n",
              "    .dataframe tbody tr th {\n",
              "        vertical-align: top;\n",
              "    }\n",
              "\n",
              "    .dataframe thead th {\n",
              "        text-align: right;\n",
              "    }\n",
              "</style>\n",
              "<table border=\"1\" class=\"dataframe\">\n",
              "  <thead>\n",
              "    <tr style=\"text-align: right;\">\n",
              "      <th></th>\n",
              "      <th>OI</th>\n",
              "      <th>VOLUME</th>\n",
              "      <th>IV</th>\n",
              "      <th>LTP</th>\n",
              "      <th>STRIKE PRICE</th>\n",
              "      <th>LTP.1</th>\n",
              "      <th>IV.1</th>\n",
              "      <th>VOLUME.1</th>\n",
              "      <th>OI.1</th>\n",
              "    </tr>\n",
              "  </thead>\n",
              "  <tbody>\n",
              "    <tr>\n",
              "      <th>0</th>\n",
              "      <td>1.0</td>\n",
              "      <td>0.0</td>\n",
              "      <td>0.00</td>\n",
              "      <td>2073.5</td>\n",
              "      <td>14950.0</td>\n",
              "      <td>0.20</td>\n",
              "      <td>96.88</td>\n",
              "      <td>1955.0</td>\n",
              "      <td>1439.0</td>\n",
              "    </tr>\n",
              "    <tr>\n",
              "      <th>1</th>\n",
              "      <td>3.0</td>\n",
              "      <td>0.0</td>\n",
              "      <td>0.00</td>\n",
              "      <td>2283.2</td>\n",
              "      <td>15000.0</td>\n",
              "      <td>0.15</td>\n",
              "      <td>92.84</td>\n",
              "      <td>72248.0</td>\n",
              "      <td>25560.0</td>\n",
              "    </tr>\n",
              "    <tr>\n",
              "      <th>2</th>\n",
              "      <td>0.0</td>\n",
              "      <td>0.0</td>\n",
              "      <td>0.00</td>\n",
              "      <td>0.0</td>\n",
              "      <td>15050.0</td>\n",
              "      <td>0.20</td>\n",
              "      <td>93.10</td>\n",
              "      <td>150.0</td>\n",
              "      <td>194.0</td>\n",
              "    </tr>\n",
              "    <tr>\n",
              "      <th>3</th>\n",
              "      <td>0.0</td>\n",
              "      <td>0.0</td>\n",
              "      <td>0.00</td>\n",
              "      <td>0.0</td>\n",
              "      <td>15100.0</td>\n",
              "      <td>0.25</td>\n",
              "      <td>92.91</td>\n",
              "      <td>1290.0</td>\n",
              "      <td>1231.0</td>\n",
              "    </tr>\n",
              "    <tr>\n",
              "      <th>4</th>\n",
              "      <td>0.0</td>\n",
              "      <td>0.0</td>\n",
              "      <td>0.00</td>\n",
              "      <td>0.0</td>\n",
              "      <td>15150.0</td>\n",
              "      <td>0.20</td>\n",
              "      <td>89.34</td>\n",
              "      <td>1649.0</td>\n",
              "      <td>357.0</td>\n",
              "    </tr>\n",
              "    <tr>\n",
              "      <th>...</th>\n",
              "      <td>...</td>\n",
              "      <td>...</td>\n",
              "      <td>...</td>\n",
              "      <td>...</td>\n",
              "      <td>...</td>\n",
              "      <td>...</td>\n",
              "      <td>...</td>\n",
              "      <td>...</td>\n",
              "      <td>...</td>\n",
              "    </tr>\n",
              "    <tr>\n",
              "      <th>105</th>\n",
              "      <td>367.0</td>\n",
              "      <td>286.0</td>\n",
              "      <td>86.81</td>\n",
              "      <td>0.2</td>\n",
              "      <td>20200.0</td>\n",
              "      <td>0.00</td>\n",
              "      <td>0.00</td>\n",
              "      <td>0.0</td>\n",
              "      <td>0.0</td>\n",
              "    </tr>\n",
              "    <tr>\n",
              "      <th>106</th>\n",
              "      <td>191.0</td>\n",
              "      <td>72.0</td>\n",
              "      <td>96.96</td>\n",
              "      <td>0.6</td>\n",
              "      <td>20250.0</td>\n",
              "      <td>0.00</td>\n",
              "      <td>0.00</td>\n",
              "      <td>0.0</td>\n",
              "      <td>0.0</td>\n",
              "    </tr>\n",
              "    <tr>\n",
              "      <th>107</th>\n",
              "      <td>554.0</td>\n",
              "      <td>449.0</td>\n",
              "      <td>94.91</td>\n",
              "      <td>0.4</td>\n",
              "      <td>20300.0</td>\n",
              "      <td>3005.00</td>\n",
              "      <td>0.00</td>\n",
              "      <td>0.0</td>\n",
              "      <td>1.0</td>\n",
              "    </tr>\n",
              "    <tr>\n",
              "      <th>108</th>\n",
              "      <td>378.0</td>\n",
              "      <td>193.0</td>\n",
              "      <td>93.99</td>\n",
              "      <td>0.3</td>\n",
              "      <td>20350.0</td>\n",
              "      <td>0.00</td>\n",
              "      <td>0.00</td>\n",
              "      <td>0.0</td>\n",
              "      <td>0.0</td>\n",
              "    </tr>\n",
              "    <tr>\n",
              "      <th>109</th>\n",
              "      <td>14023.0</td>\n",
              "      <td>14772.0</td>\n",
              "      <td>92.28</td>\n",
              "      <td>0.2</td>\n",
              "      <td>20400.0</td>\n",
              "      <td>0.00</td>\n",
              "      <td>0.00</td>\n",
              "      <td>0.0</td>\n",
              "      <td>0.0</td>\n",
              "    </tr>\n",
              "  </tbody>\n",
              "</table>\n",
              "<p>110 rows × 9 columns</p>\n",
              "</div>\n",
              "      <button class=\"colab-df-convert\" onclick=\"convertToInteractive('df-17b4ab87-f692-4d0b-b5ba-18b73c470d50')\"\n",
              "              title=\"Convert this dataframe to an interactive table.\"\n",
              "              style=\"display:none;\">\n",
              "        \n",
              "  <svg xmlns=\"http://www.w3.org/2000/svg\" height=\"24px\"viewBox=\"0 0 24 24\"\n",
              "       width=\"24px\">\n",
              "    <path d=\"M0 0h24v24H0V0z\" fill=\"none\"/>\n",
              "    <path d=\"M18.56 5.44l.94 2.06.94-2.06 2.06-.94-2.06-.94-.94-2.06-.94 2.06-2.06.94zm-11 1L8.5 8.5l.94-2.06 2.06-.94-2.06-.94L8.5 2.5l-.94 2.06-2.06.94zm10 10l.94 2.06.94-2.06 2.06-.94-2.06-.94-.94-2.06-.94 2.06-2.06.94z\"/><path d=\"M17.41 7.96l-1.37-1.37c-.4-.4-.92-.59-1.43-.59-.52 0-1.04.2-1.43.59L10.3 9.45l-7.72 7.72c-.78.78-.78 2.05 0 2.83L4 21.41c.39.39.9.59 1.41.59.51 0 1.02-.2 1.41-.59l7.78-7.78 2.81-2.81c.8-.78.8-2.07 0-2.86zM5.41 20L4 18.59l7.72-7.72 1.47 1.35L5.41 20z\"/>\n",
              "  </svg>\n",
              "      </button>\n",
              "      \n",
              "  <style>\n",
              "    .colab-df-container {\n",
              "      display:flex;\n",
              "      flex-wrap:wrap;\n",
              "      gap: 12px;\n",
              "    }\n",
              "\n",
              "    .colab-df-convert {\n",
              "      background-color: #E8F0FE;\n",
              "      border: none;\n",
              "      border-radius: 50%;\n",
              "      cursor: pointer;\n",
              "      display: none;\n",
              "      fill: #1967D2;\n",
              "      height: 32px;\n",
              "      padding: 0 0 0 0;\n",
              "      width: 32px;\n",
              "    }\n",
              "\n",
              "    .colab-df-convert:hover {\n",
              "      background-color: #E2EBFA;\n",
              "      box-shadow: 0px 1px 2px rgba(60, 64, 67, 0.3), 0px 1px 3px 1px rgba(60, 64, 67, 0.15);\n",
              "      fill: #174EA6;\n",
              "    }\n",
              "\n",
              "    [theme=dark] .colab-df-convert {\n",
              "      background-color: #3B4455;\n",
              "      fill: #D2E3FC;\n",
              "    }\n",
              "\n",
              "    [theme=dark] .colab-df-convert:hover {\n",
              "      background-color: #434B5C;\n",
              "      box-shadow: 0px 1px 3px 1px rgba(0, 0, 0, 0.15);\n",
              "      filter: drop-shadow(0px 1px 2px rgba(0, 0, 0, 0.3));\n",
              "      fill: #FFFFFF;\n",
              "    }\n",
              "  </style>\n",
              "\n",
              "      <script>\n",
              "        const buttonEl =\n",
              "          document.querySelector('#df-17b4ab87-f692-4d0b-b5ba-18b73c470d50 button.colab-df-convert');\n",
              "        buttonEl.style.display =\n",
              "          google.colab.kernel.accessAllowed ? 'block' : 'none';\n",
              "\n",
              "        async function convertToInteractive(key) {\n",
              "          const element = document.querySelector('#df-17b4ab87-f692-4d0b-b5ba-18b73c470d50');\n",
              "          const dataTable =\n",
              "            await google.colab.kernel.invokeFunction('convertToInteractive',\n",
              "                                                     [key], {});\n",
              "          if (!dataTable) return;\n",
              "\n",
              "          const docLinkHtml = 'Like what you see? Visit the ' +\n",
              "            '<a target=\"_blank\" href=https://colab.research.google.com/notebooks/data_table.ipynb>data table notebook</a>'\n",
              "            + ' to learn more about interactive tables.';\n",
              "          element.innerHTML = '';\n",
              "          dataTable['output_type'] = 'display_data';\n",
              "          await google.colab.output.renderOutput(dataTable, element);\n",
              "          const docLink = document.createElement('div');\n",
              "          docLink.innerHTML = docLinkHtml;\n",
              "          element.appendChild(docLink);\n",
              "        }\n",
              "      </script>\n",
              "    </div>\n",
              "  </div>\n",
              "  "
            ]
          },
          "metadata": {}
        },
        {
          "output_type": "display_data",
          "data": {
            "text/plain": [
              "<Figure size 1152x648 with 1 Axes>"
            ],
            "image/png": "[encoded data removed]"
          },
          "metadata": {
            "needs_background": "light"
          }
        },
        {
          "output_type": "stream",
          "name": "stdout",
          "text": [
            "--------------------------\n",
            "PCR: 1.008827030140142\n",
            "--------------------------\n"
          ]
        },
        {
          "output_type": "display_data",
          "data": {
            "text/plain": [
              "STRIKE PRICE       17500.0\n",
              "CALL OI           146307.0\n",
              "PUT OI            128111.0\n",
              "CALL PAIN       35938200.0\n",
              "PUT PAIN        10033500.0\n",
              "TOTAL PAIN      45971700.0\n",
              "Name: 51, dtype: float64"
            ]
          },
          "metadata": {}
        }
      ]
    },
    {
      "cell_type": "code",
      "source": [
        "import plotly.graph_objects as go\n",
        "fig = go.Figure()\n",
        "\n",
        "fig.add_trace(go.Bar(\n",
        "    x=MAX_PAIN['STRIKE PRICE'], y=MAX_PAIN['CALL PAIN'],\n",
        "    name='CALL PAIN',\n",
        "    marker_color='lightsalmon'))\n",
        "\n",
        "fig.add_trace(go.Bar(\n",
        "    x=MAX_PAIN['STRIKE PRICE'], y=MAX_PAIN['PUT PAIN'],\n",
        "    name='PUT PAIN',\n",
        "    marker_color='indianred'))\n",
        "\n",
        "fig.update_layout(\n",
        "    autosize=False,\n",
        "    width=1280,\n",
        "    height=720,\n",
        ")\n",
        "\n",
        "fig.show()"
      ],
      "metadata": {
        "colab": {
          "base_uri": "https://localhost:8080/",
          "height": 737
        },
        "id": "9EhkBf5Z4Y20",
        "outputId": "65de1eb3-28c9-4030-92fe-7b315959edaa"
      },
      "execution_count": 3,
      "outputs": [
        {
          "output_type": "display_data",
          "data": {
            "text/html": [
              "<html>\n",
              "<head><meta charset=\"utf-8\" /></head>\n",
              "<body>\n",
              "    <div>            <script src=\"https://cdnjs.cloudflare.com/ajax/libs/mathjax/2.7.5/MathJax.js?config=TeX-AMS-MML_SVG\"></script><script type=\"text/javascript\">if (window.MathJax) {MathJax.Hub.Config({SVG: {font: \"STIX-Web\"}});}</script>                <script type=\"text/javascript\">window.PlotlyConfig = {MathJaxConfig: 'local'};</script>\n",
              "        <script src=\"https://cdn.plot.ly/plotly-2.8.3.min.js\"></script>                <div id=\"1b096085-d32f-4eeb-851e-48cc211dcb2c\" class=\"plotly-graph-div\" style=\"height:720px; width:1280px;\"></div>            <script type=\"text/javascript\">                                    window.PLOTLYENV=window.PLOTLYENV || {};                                    if (document.getElementById(\"1b096085-d32f-4eeb-851e-48cc211dcb2c\")) {                    Plotly.newPlot(                        \"1b096085-d32f-4eeb-851e-48cc211dcb2c\",                        [{\"marker\":{\"color\":\"lightsalmon\"},\"name\":\"CALL PAIN\",\"x\":[14950.0,15000.0,15050.0,15100.0,15150.0,15200.0,15250.0,15300.0,15350.0,15400.0,15450.0,15500.0,15550.0,15600.0,15650.0,15700.0,15750.0,15800.0,15850.0,15900.0,15950.0,16000.0,16050.0,16100.0,16150.0,16200.0,16250.0,16300.0,16350.0,16400.0,16450.0,16500.0,16550.0,16600.0,16650.0,16700.0,16750.0,16800.0,16850.0,16900.0,16950.0,17000.0,17050.0,17100.0,17150.0,17200.0,17250.0,17300.0,17350.0,17400.0,17450.0,17500.0,17550.0,17600.0,17650.0,17700.0,17750.0,17800.0,17850.0,17900.0,17950.0,18000.0,18050.0,18100.0,18150.0,18200.0,18250.0,18300.0,18350.0,18400.0,18450.0,18500.0,18550.0,18600.0,18650.0,18700.0,18750.0,18800.0,18850.0,18900.0,18950.0,19000.0,19050.0,19100.0,19150.0,19200.0,19250.0,19300.0,19350.0,19400.0,19450.0,19500.0,19550.0,19600.0,19650.0,19700.0,19750.0,19800.0,19850.0,19900.0,19950.0,20000.0,20050.0,20100.0,20150.0,20200.0,20250.0,20300.0,20350.0,20400.0],\"y\":[0.0,50.0,250.0,450.0,650.0,850.0,1100.0,1350.0,1600.0,1850.0,2150.0,2450.0,3000.0,3550.0,4100.0,4650.0,5250.0,5850.0,6550.0,7250.0,7950.0,8700.0,27100.0,45650.0,66400.0,87300.0,111750.0,136500.0,165050.0,194800.0,239600.0,286150.0,380350.0,478250.0,610650.0,751400.0,955350.0,1176650.0,1428550.0,1702100.0,2132300.0,2608600.0,3913600.0,5319450.0,6962900.0,8814250.0,11328100.0,14068450.0,18164050.0,22546250.0,28836200.0,35938200.0,50355550.0,68382650.0,95198550.0,125783600.0,163799500.0,205727050.0,254877350.0,306069200.0,362694800.0,420478450.0,484608300.0,549166750.0,614905800.0,680884250.0,748537200.0,816376450.0,885108050.0,953871400.0,1023022700.0,1092210100.0,1163383750.0,1234591800.0,1306971150.0,1379373000.0,1452181050.0,1525002500.0,1598119750.0,1671247450.0,1744536600.0,1817830950.0,1893582800.0,1969339150.0,2045138950.0,2120942400.0,2196812950.0,2272686150.0,2348589500.0,2424494750.0,2500432150.0,2576374850.0,2652966450.0,2729562450.0,2806166150.0,2882772150.0,2959382800.0,3035995650.0,3112621200.0,3189251100.0,3265885900.0,3342524200.0,3419865350.0,3497213600.0,3574567150.0,3651926500.0,3729304200.0,3806691450.0,3884106400.0,3961540250.0],\"type\":\"bar\"},{\"marker\":{\"color\":\"indianred\"},\"name\":\"PUT PAIN\",\"x\":[14950.0,15000.0,15050.0,15100.0,15150.0,15200.0,15250.0,15300.0,15350.0,15400.0,15450.0,15500.0,15550.0,15600.0,15650.0,15700.0,15750.0,15800.0,15850.0,15900.0,15950.0,16000.0,16050.0,16100.0,16150.0,16200.0,16250.0,16300.0,16350.0,16400.0,16450.0,16500.0,16550.0,16600.0,16650.0,16700.0,16750.0,16800.0,16850.0,16900.0,16950.0,17000.0,17050.0,17100.0,17150.0,17200.0,17250.0,17300.0,17350.0,17400.0,17450.0,17500.0,17550.0,17600.0,17650.0,17700.0,17750.0,17800.0,17850.0,17900.0,17950.0,18000.0,18050.0,18100.0,18150.0,18200.0,18250.0,18300.0,18350.0,18400.0,18450.0,18500.0,18550.0,18600.0,18650.0,18700.0,18750.0,18800.0,18850.0,18900.0,18950.0,19000.0,19050.0,19100.0,19150.0,19200.0,19250.0,19300.0,19350.0,19400.0,19450.0,19500.0,19550.0,19600.0,19650.0,19700.0,19750.0,19800.0,19850.0,19900.0,19950.0,20000.0,20050.0,20100.0,20150.0,20200.0,20250.0,20300.0,20350.0,20400.0],\"y\":[3123464900.0,3044712150.0,2967237400.0,2889772350.0,2812368850.0,2734983200.0,2657698800.0,2580422750.0,2503280000.0,2426145300.0,2349274450.0,2272407850.0,2197405750.0,2122419350.0,2047662200.0,1972913700.0,1898317000.0,1823747500.0,1749945250.0,1676163700.0,1602603450.0,1529076850.0,1457827200.0,1386610500.0,1315582400.0,1244624950.0,1174504900.0,1104577350.0,1035645700.0,966868400.0,899246850.0,831858150.0,769098850.0,706671700.0,647408900.0,588689900.0,532636950.0,477574250.0,424915000.0,372897050.0,323250300.0,274575950.0,233997350.0,195137850.0,160270450.0,127345850.0,98779150.0,72623500.0,51753800.0,33041950.0,20402600.0,10033500.0,6069950.0,3138300.0,2099900.0,1275050.0,926700.0,655850.0,518100.0,404350.0,313550.0,227000.0,191850.0,157750.0,133800.0,113400.0,95800.0,78350.0,64800.0,51400.0,38250.0,25200.0,23950.0,22850.0,21850.0,20850.0,19850.0,18850.0,17850.0,16850.0,15850.0,14850.0,14050.0,13250.0,12450.0,11650.0,10850.0,10050.0,9250.0,8450.0,7650.0,6850.0,6200.0,5550.0,4900.0,4250.0,3600.0,2950.0,2300.0,1650.0,1000.0,350.0,250.0,200.0,150.0,100.0,50.0,0.0,0.0,0.0],\"type\":\"bar\"}],                        {\"template\":{\"data\":{\"bar\":[{\"error_x\":{\"color\":\"#2a3f5f\"},\"error_y\":{\"color\":\"#2a3f5f\"},\"marker\":{\"line\":{\"color\":\"#E5ECF6\",\"width\":0.5},\"pattern\":{\"fillmode\":\"overlay\",\"size\":10,\"solidity\":0.2}},\"type\":\"bar\"}],\"barpolar\":[{\"marker\":{\"line\":{\"color\":\"#E5ECF6\",\"width\":0.5},\"pattern\":{\"fillmode\":\"overlay\",\"size\":10,\"solidity\":0.2}},\"type\":\"barpolar\"}],\"carpet\":[{\"aaxis\":{\"endlinecolor\":\"#2a3f5f\",\"gridcolor\":\"white\",\"linecolor\":\"white\",\"minorgridcolor\":\"white\",\"startlinecolor\":\"#2a3f5f\"},\"baxis\":{\"endlinecolor\":\"#2a3f5f\",\"gridcolor\":\"white\",\"linecolor\":\"white\",\"minorgridcolor\":\"white\",\"startlinecolor\":\"#2a3f5f\"},\"type\":\"carpet\"}],\"choropleth\":[{\"colorbar\":{\"outlinewidth\":0,\"ticks\":\"\"},\"type\":\"choropleth\"}],\"contour\":[{\"colorbar\":{\"outlinewidth\":0,\"ticks\":\"\"},\"colorscale\":[[0.0,\"#0d0887\"],[0.1111111111111111,\"#46039f\"],[0.2222222222222222,\"#7201a8\"],[0.3333333333333333,\"#9c179e\"],[0.4444444444444444,\"#bd3786\"],[0.5555555555555556,\"#d8576b\"],[0.6666666666666666,\"#ed7953\"],[0.7777777777777778,\"#fb9f3a\"],[0.8888888888888888,\"#fdca26\"],[1.0,\"#f0f921\"]],\"type\":\"contour\"}],\"contourcarpet\":[{\"colorbar\":{\"outlinewidth\":0,\"ticks\":\"\"},\"type\":\"contourcarpet\"}],\"heatmap\":[{\"colorbar\":{\"outlinewidth\":0,\"ticks\":\"\"},\"colorscale\":[[0.0,\"#0d0887\"],[0.1111111111111111,\"#46039f\"],[0.2222222222222222,\"#7201a8\"],[0.3333333333333333,\"#9c179e\"],[0.4444444444444444,\"#bd3786\"],[0.5555555555555556,\"#d8576b\"],[0.6666666666666666,\"#ed7953\"],[0.7777777777777778,\"#fb9f3a\"],[0.8888888888888888,\"#fdca26\"],[1.0,\"#f0f921\"]],\"type\":\"heatmap\"}],\"heatmapgl\":[{\"colorbar\":{\"outlinewidth\":0,\"ticks\":\"\"},\"colorscale\":[[0.0,\"#0d0887\"],[0.1111111111111111,\"#46039f\"],[0.2222222222222222,\"#7201a8\"],[0.3333333333333333,\"#9c179e\"],[0.4444444444444444,\"#bd3786\"],[0.5555555555555556,\"#d8576b\"],[0.6666666666666666,\"#ed7953\"],[0.7777777777777778,\"#fb9f3a\"],[0.8888888888888888,\"#fdca26\"],[1.0,\"#f0f921\"]],\"type\":\"heatmapgl\"}],\"histogram\":[{\"marker\":{\"pattern\":{\"fillmode\":\"overlay\",\"size\":10,\"solidity\":0.2}},\"type\":\"histogram\"}],\"histogram2d\":[{\"colorbar\":{\"outlinewidth\":0,\"ticks\":\"\"},\"colorscale\":[[0.0,\"#0d0887\"],[0.1111111111111111,\"#46039f\"],[0.2222222222222222,\"#7201a8\"],[0.3333333333333333,\"#9c179e\"],[0.4444444444444444,\"#bd3786\"],[0.5555555555555556,\"#d8576b\"],[0.6666666666666666,\"#ed7953\"],[0.7777777777777778,\"#fb9f3a\"],[0.8888888888888888,\"#fdca26\"],[1.0,\"#f0f921\"]],\"type\":\"histogram2d\"}],\"histogram2dcontour\":[{\"colorbar\":{\"outlinewidth\":0,\"ticks\":\"\"},\"colorscale\":[[0.0,\"#0d0887\"],[0.1111111111111111,\"#46039f\"],[0.2222222222222222,\"#7201a8\"],[0.3333333333333333,\"#9c179e\"],[0.4444444444444444,\"#bd3786\"],[0.5555555555555556,\"#d8576b\"],[0.6666666666666666,\"#ed7953\"],[0.7777777777777778,\"#fb9f3a\"],[0.8888888888888888,\"#fdca26\"],[1.0,\"#f0f921\"]],\"type\":\"histogram2dcontour\"}],\"mesh3d\":[{\"colorbar\":{\"outlinewidth\":0,\"ticks\":\"\"},\"type\":\"mesh3d\"}],\"parcoords\":[{\"line\":{\"colorbar\":{\"outlinewidth\":0,\"ticks\":\"\"}},\"type\":\"parcoords\"}],\"pie\":[{\"automargin\":true,\"type\":\"pie\"}],\"scatter\":[{\"marker\":{\"colorbar\":{\"outlinewidth\":0,\"ticks\":\"\"}},\"type\":\"scatter\"}],\"scatter3d\":[{\"line\":{\"colorbar\":{\"outlinewidth\":0,\"ticks\":\"\"}},\"marker\":{\"colorbar\":{\"outlinewidth\":0,\"ticks\":\"\"}},\"type\":\"scatter3d\"}],\"scattercarpet\":[{\"marker\":{\"colorbar\":{\"outlinewidth\":0,\"ticks\":\"\"}},\"type\":\"scattercarpet\"}],\"scattergeo\":[{\"marker\":{\"colorbar\":{\"outlinewidth\":0,\"ticks\":\"\"}},\"type\":\"scattergeo\"}],\"scattergl\":[{\"marker\":{\"colorbar\":{\"outlinewidth\":0,\"ticks\":\"\"}},\"type\":\"scattergl\"}],\"scattermapbox\":[{\"marker\":{\"colorbar\":{\"outlinewidth\":0,\"ticks\":\"\"}},\"type\":\"scattermapbox\"}],\"scatterpolar\":[{\"marker\":{\"colorbar\":{\"outlinewidth\":0,\"ticks\":\"\"}},\"type\":\"scatterpolar\"}],\"scatterpolargl\":[{\"marker\":{\"colorbar\":{\"outlinewidth\":0,\"ticks\":\"\"}},\"type\":\"scatterpolargl\"}],\"scatterternary\":[{\"marker\":{\"colorbar\":{\"outlinewidth\":0,\"ticks\":\"\"}},\"type\":\"scatterternary\"}],\"surface\":[{\"colorbar\":{\"outlinewidth\":0,\"ticks\":\"\"},\"colorscale\":[[0.0,\"#0d0887\"],[0.1111111111111111,\"#46039f\"],[0.2222222222222222,\"#7201a8\"],[0.3333333333333333,\"#9c179e\"],[0.4444444444444444,\"#bd3786\"],[0.5555555555555556,\"#d8576b\"],[0.6666666666666666,\"#ed7953\"],[0.7777777777777778,\"#fb9f3a\"],[0.8888888888888888,\"#fdca26\"],[1.0,\"#f0f921\"]],\"type\":\"surface\"}],\"table\":[{\"cells\":{\"fill\":{\"color\":\"#EBF0F8\"},\"line\":{\"color\":\"white\"}},\"header\":{\"fill\":{\"color\":\"#C8D4E3\"},\"line\":{\"color\":\"white\"}},\"type\":\"table\"}]},\"layout\":{\"annotationdefaults\":{\"arrowcolor\":\"#2a3f5f\",\"arrowhead\":0,\"arrowwidth\":1},\"autotypenumbers\":\"strict\",\"coloraxis\":{\"colorbar\":{\"outlinewidth\":0,\"ticks\":\"\"}},\"colorscale\":{\"diverging\":[[0,\"#8e0152\"],[0.1,\"#c51b7d\"],[0.2,\"#de77ae\"],[0.3,\"#f1b6da\"],[0.4,\"#fde0ef\"],[0.5,\"#f7f7f7\"],[0.6,\"#e6f5d0\"],[0.7,\"#b8e186\"],[0.8,\"#7fbc41\"],[0.9,\"#4d9221\"],[1,\"#276419\"]],\"sequential\":[[0.0,\"#0d0887\"],[0.1111111111111111,\"#46039f\"],[0.2222222222222222,\"#7201a8\"],[0.3333333333333333,\"#9c179e\"],[0.4444444444444444,\"#bd3786\"],[0.5555555555555556,\"#d8576b\"],[0.6666666666666666,\"#ed7953\"],[0.7777777777777778,\"#fb9f3a\"],[0.8888888888888888,\"#fdca26\"],[1.0,\"#f0f921\"]],\"sequentialminus\":[[0.0,\"#0d0887\"],[0.1111111111111111,\"#46039f\"],[0.2222222222222222,\"#7201a8\"],[0.3333333333333333,\"#9c179e\"],[0.4444444444444444,\"#bd3786\"],[0.5555555555555556,\"#d8576b\"],[0.6666666666666666,\"#ed7953\"],[0.7777777777777778,\"#fb9f3a\"],[0.8888888888888888,\"#fdca26\"],[1.0,\"#f0f921\"]]},\"colorway\":[\"#636efa\",\"#EF553B\",\"#00cc96\",\"#ab63fa\",\"#FFA15A\",\"#19d3f3\",\"#FF6692\",\"#B6E880\",\"#FF97FF\",\"#FECB52\"],\"font\":{\"color\":\"#2a3f5f\"},\"geo\":{\"bgcolor\":\"white\",\"lakecolor\":\"white\",\"landcolor\":\"#E5ECF6\",\"showlakes\":true,\"showland\":true,\"subunitcolor\":\"white\"},\"hoverlabel\":{\"align\":\"left\"},\"hovermode\":\"closest\",\"mapbox\":{\"style\":\"light\"},\"paper_bgcolor\":\"white\",\"plot_bgcolor\":\"#E5ECF6\",\"polar\":{\"angularaxis\":{\"gridcolor\":\"white\",\"linecolor\":\"white\",\"ticks\":\"\"},\"bgcolor\":\"#E5ECF6\",\"radialaxis\":{\"gridcolor\":\"white\",\"linecolor\":\"white\",\"ticks\":\"\"}},\"scene\":{\"xaxis\":{\"backgroundcolor\":\"#E5ECF6\",\"gridcolor\":\"white\",\"gridwidth\":2,\"linecolor\":\"white\",\"showbackground\":true,\"ticks\":\"\",\"zerolinecolor\":\"white\"},\"yaxis\":{\"backgroundcolor\":\"#E5ECF6\",\"gridcolor\":\"white\",\"gridwidth\":2,\"linecolor\":\"white\",\"showbackground\":true,\"ticks\":\"\",\"zerolinecolor\":\"white\"},\"zaxis\":{\"backgroundcolor\":\"#E5ECF6\",\"gridcolor\":\"white\",\"gridwidth\":2,\"linecolor\":\"white\",\"showbackground\":true,\"ticks\":\"\",\"zerolinecolor\":\"white\"}},\"shapedefaults\":{\"line\":{\"color\":\"#2a3f5f\"}},\"ternary\":{\"aaxis\":{\"gridcolor\":\"white\",\"linecolor\":\"white\",\"ticks\":\"\"},\"baxis\":{\"gridcolor\":\"white\",\"linecolor\":\"white\",\"ticks\":\"\"},\"bgcolor\":\"#E5ECF6\",\"caxis\":{\"gridcolor\":\"white\",\"linecolor\":\"white\",\"ticks\":\"\"}},\"title\":{\"x\":0.05},\"xaxis\":{\"automargin\":true,\"gridcolor\":\"white\",\"linecolor\":\"white\",\"ticks\":\"\",\"title\":{\"standoff\":15},\"zerolinecolor\":\"white\",\"zerolinewidth\":2},\"yaxis\":{\"automargin\":true,\"gridcolor\":\"white\",\"linecolor\":\"white\",\"ticks\":\"\",\"title\":{\"standoff\":15},\"zerolinecolor\":\"white\",\"zerolinewidth\":2}}},\"autosize\":false,\"width\":1280,\"height\":720},                        {\"responsive\": true}                    ).then(function(){\n",
              "                            \n",
              "var gd = document.getElementById('1b096085-d32f-4eeb-851e-48cc211dcb2c');\n",
              "var x = new MutationObserver(function (mutations, observer) {{\n",
              "        var display = window.getComputedStyle(gd).display;\n",
              "        if (!display || display === 'none') {{\n",
              "            console.log([gd, 'removed!']);\n",
              "            Plotly.purge(gd);\n",
              "            observer.disconnect();\n",
              "        }}\n",
              "}});\n",
              "\n",
              "// Listen for the removal of the full notebook cells\n",
              "var notebookContainer = gd.closest('#notebook-container');\n",
              "if (notebookContainer) {{\n",
              "    x.observe(notebookContainer, {childList: true});\n",
              "}}\n",
              "\n",
              "// Listen for the clearing of the current output cell\n",
              "var outputEl = gd.closest('.output');\n",
              "if (outputEl) {{\n",
              "    x.observe(outputEl, {childList: true});\n",
              "}}\n",
              "\n",
              "                        })                };                            </script>        </div>\n",
              "</body>\n",
              "</html>"
            ]
          },
          "metadata": {}
        }
      ]
    },
    {
      "cell_type": "code",
      "source": [],
      "metadata": {
        "id": "z5My3C6tryGW"
      },
      "execution_count": 3,
      "outputs": []
    },
    {
      "cell_type": "code",
      "source": [],
      "metadata": {
        "id": "y6f2-GvyryK3"
      },
      "execution_count": 3,
      "outputs": []
    },
    {
      "cell_type": "code",
      "source": [],
      "metadata": {
        "id": "364lYLsTryNh"
      },
      "execution_count": 3,
      "outputs": []
    },
    {
      "cell_type": "markdown",
      "source": [
        "# Test for `call_profit` and `put_profit`"
      ],
      "metadata": {
        "id": "7jruWSBVYRk_"
      }
    },
    {
      "cell_type": "code",
      "source": [
        "spot_price = 1000 \n",
        "strike_price = 1000 \n",
        "premium = 25\n",
        "spot = np.arange(0.9*spot_price,1.1*spot_price) "
      ],
      "metadata": {
        "id": "pkwMZDEATs4h"
      },
      "execution_count": 4,
      "outputs": []
    },
    {
      "cell_type": "code",
      "source": [
        "longcall = call_profit(strike_price, spot, premium=premium)\n",
        "fig, ax = plt.subplots(figsize=(8,5))\n",
        "ax.spines['bottom'].set_position('zero')\n",
        "ax.plot(spot, longcall,label='Call option buyer payoff')\n",
        "plt.xlabel('Stock Price')\n",
        "plt.ylabel('Profit and loss')\n",
        "plt.legend()\n",
        "plt.show()"
      ],
      "metadata": {
        "colab": {
          "base_uri": "https://localhost:8080/",
          "height": 303
        },
        "id": "MDriTRIyVnkz",
        "outputId": "2bafe5a7-f5b5-4974-e723-218c92670a65"
      },
      "execution_count": 5,
      "outputs": [
        {
          "output_type": "display_data",
          "data": {
            "text/plain": [
              "<Figure size 576x360 with 1 Axes>"
            ],
            "image/png": "[encoded data removed]"
          },
          "metadata": {
            "needs_background": "light"
          }
        }
      ]
    },
    {
      "cell_type": "code",
      "source": [
        "shortcall = call_profit(strike_price, spot, premium=premium, position='short')\n",
        "fig, ax = plt.subplots(figsize=(8,5))\n",
        "ax.spines['bottom'].set_position('zero')\n",
        "ax.plot(spot, shortcall,label='Call option seller payoff')\n",
        "plt.xlabel('Stock Price')\n",
        "plt.ylabel('Profit and loss')\n",
        "plt.legend()\n",
        "plt.show()"
      ],
      "metadata": {
        "colab": {
          "base_uri": "https://localhost:8080/",
          "height": 303
        },
        "id": "4W62A8fKX7N4",
        "outputId": "16d8b875-9d65-45e4-feeb-2ba005b9b0e3"
      },
      "execution_count": 6,
      "outputs": [
        {
          "output_type": "display_data",
          "data": {
            "text/plain": [
              "<Figure size 576x360 with 1 Axes>"
            ],
            "image/png": "[encoded data removed]"
          },
          "metadata": {
            "needs_background": "light"
          }
        }
      ]
    },
    {
      "cell_type": "code",
      "source": [
        "longput = put_profit(strike_price, spot, premium=premium)\n",
        "fig, ax = plt.subplots(figsize=(8,5))\n",
        "ax.spines['bottom'].set_position('zero')\n",
        "ax.plot(spot, longput, label='Put option buyer payoff')\n",
        "plt.xlabel('Stock Price')\n",
        "plt.ylabel('Profit and loss')\n",
        "plt.legend()\n",
        "plt.show()"
      ],
      "metadata": {
        "colab": {
          "base_uri": "https://localhost:8080/",
          "height": 307
        },
        "id": "AvApP3cVWKrt",
        "outputId": "b1cdc3a8-939b-472e-a949-008f1b2f1644"
      },
      "execution_count": 7,
      "outputs": [
        {
          "output_type": "display_data",
          "data": {
            "text/plain": [
              "<Figure size 576x360 with 1 Axes>"
            ],
            "image/png": "[encoded data removed]"
          },
          "metadata": {
            "needs_background": "light"
          }
        }
      ]
    },
    {
      "cell_type": "code",
      "source": [
        "shortput = put_profit(strike_price, spot, premium=premium, position='short')\n",
        "fig, ax = plt.subplots(figsize=(8,5))\n",
        "ax.spines['bottom'].set_position('zero')\n",
        "ax.plot(spot, shortput, label='Put option seller payoff')\n",
        "plt.xlabel('Stock Price')\n",
        "plt.ylabel('Profit and loss')\n",
        "plt.legend()\n",
        "plt.show()"
      ],
      "metadata": {
        "colab": {
          "base_uri": "https://localhost:8080/",
          "height": 309
        },
        "id": "lobrMqfaXnd_",
        "outputId": "7b51967f-f81c-477f-8393-40f9a8206a52"
      },
      "execution_count": 8,
      "outputs": [
        {
          "output_type": "display_data",
          "data": {
            "text/plain": [
              "<Figure size 576x360 with 1 Axes>"
            ],
            "image/png": "[encoded data removed]"
          },
          "metadata": {
            "needs_background": "light"
          }
        }
      ]
    },
    {
      "cell_type": "code",
      "source": [],
      "metadata": {
        "id": "eA7pPs8TrwSD"
      },
      "execution_count": 8,
      "outputs": []
    },
    {
      "cell_type": "markdown",
      "source": [
        "# Rough"
      ],
      "metadata": {
        "id": "OcTsdyyvpmFw"
      }
    },
    {
      "cell_type": "code",
      "source": [
        "call_profit(900, 910, 10)"
      ],
      "metadata": {
        "colab": {
          "base_uri": "https://localhost:8080/"
        },
        "id": "Txhl8yIPYbRW",
        "outputId": "63802ddd-c6e3-4c66-c7f6-7606b4a4250c"
      },
      "execution_count": 9,
      "outputs": [
        {
          "output_type": "execute_result",
          "data": {
            "text/plain": [
              "0"
            ]
          },
          "metadata": {},
          "execution_count": 9
        }
      ]
    }
  ]
}