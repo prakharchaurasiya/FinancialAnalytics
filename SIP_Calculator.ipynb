{
  "nbformat": 4,
  "nbformat_minor": 0,
  "metadata": {
    "colab": {
      "provenance": [],
      "authorship_tag": "ABX9TyMiMOsVRiCz0xj41X+CIvxG",
      "include_colab_link": true
    },
    "kernelspec": {
      "name": "python3",
      "display_name": "Python 3"
    },
    "language_info": {
      "name": "python"
    }
  },
  "cells": [
    {
      "cell_type": "markdown",
      "metadata": {
        "id": "view-in-github",
        "colab_type": "text"
      },
      "source": [
        "<a href=\"https://colab.research.google.com/github/prakharchaurasiya/FinancialAnalytics/blob/main/SIP_Calculator.ipynb\" target=\"_parent\"><img src=\"https://colab.research.google.com/assets/colab-badge.svg\" alt=\"Open In Colab\"/></a>"
      ]
    },
    {
      "cell_type": "code",
      "source": [
        "!pip install numpy-financial"
      ],
      "metadata": {
        "colab": {
          "base_uri": "https://localhost:8080/"
        },
        "id": "dIKRN-4GrARd",
        "outputId": "5e6f7764-3837-4511-9f83-384c85ff23ae"
      },
      "execution_count": 1,
      "outputs": [
        {
          "output_type": "stream",
          "name": "stdout",
          "text": [
            "Looking in indexes: https://pypi.org/simple, https://us-python.pkg.dev/colab-wheels/public/simple/\n",
            "Requirement already satisfied: numpy-financial in /usr/local/lib/python3.7/dist-packages (1.0.0)\n",
            "Requirement already satisfied: numpy>=1.15 in /usr/local/lib/python3.7/dist-packages (from numpy-financial) (1.21.6)\n"
          ]
        }
      ]
    },
    {
      "cell_type": "code",
      "execution_count": 2,
      "metadata": {
        "id": "GPFqHoziq5yh"
      },
      "outputs": [],
      "source": [
        "import pandas as pd\n",
        "from numpy_financial import pmt\n",
        "\n",
        "def round00(x, base=100):\n",
        "  return base*round(x/base)\n",
        "\n",
        "def formatINR(number):\n",
        "  number = round00(number)\n",
        "  s, *d = str(number).partition(\".\")\n",
        "  r = \",\".join([s[x-2:x] for x in range(-3, -len(s), -2)][::-1] + [s[-3:]])\n",
        "  f = \"\".join([r] + d)\n",
        "  return f\"₹ {f}\"\n",
        "\n",
        "def sip_target(current_target_amt, time, expected_rtn, inflation):\n",
        "  inflation_adj_target = current_target_amt*(1+inflation)**time\n",
        "  sip_amt = -pmt(expected_rtn/12, time*12, 0, inflation_adj_target, 1)\n",
        "  return formatINR(sip_amt)\n",
        "\n",
        "def investment_value(sip, time, expected_rtn, step_up=0, inflation=0.06):\n",
        "  invst = []\n",
        "  sum = 0\n",
        "  t_sip = 0\n",
        "  sip_mth = time*12\n",
        "  for i in range(sip_mth):\n",
        "    sum += sip*(1+expected_rtn/12)**(sip_mth-i)\n",
        "    t_sip += sip\n",
        "    if (i+1)%12 == 0:\n",
        "      sip = round00(sip*(1+step_up))\n",
        "  pv = sum/(1+inflation)**(time)\n",
        "  invst.append(dict(invested=formatINR(t_sip), fv=formatINR(sum), pv=formatINR(pv)))\n",
        "  # invst.append(dict(invested=round(t_sip), fv=round(sum), pv=round(pv)))\n",
        "  return pd.DataFrame(invst) #round(sum)"
      ]
    },
    {
      "cell_type": "markdown",
      "source": [
        "Investment growth in given years with consideration of inflation and annual incrase in SIP"
      ],
      "metadata": {
        "id": "NArBqLsHsWbT"
      }
    },
    {
      "cell_type": "code",
      "source": [
        "investment_value(20000, 30, 0.14, 0.10, 0.06)"
      ],
      "metadata": {
        "colab": {
          "base_uri": "https://localhost:8080/",
          "height": 81
        },
        "id": "FoDMYeHxq8pQ",
        "outputId": "a2640035-9856-497a-d3ec-1eab23a41305"
      },
      "execution_count": 3,
      "outputs": [
        {
          "output_type": "execute_result",
          "data": {
            "text/plain": [
              "        invested              fv             pv\n",
              "0  ₹ 3,94,70,400  ₹ 24,99,26,600  ₹ 4,35,14,700"
            ],
            "text/html": [
              "\n",
              "  <div id=\"df-dbf79522-468b-4c67-a458-deb7a403f07f\">\n",
              "    <div class=\"colab-df-container\">\n",
              "      <div>\n",
              "<style scoped>\n",
              "    .dataframe tbody tr th:only-of-type {\n",
              "        vertical-align: middle;\n",
              "    }\n",
              "\n",
              "    .dataframe tbody tr th {\n",
              "        vertical-align: top;\n",
              "    }\n",
              "\n",
              "    .dataframe thead th {\n",
              "        text-align: right;\n",
              "    }\n",
              "</style>\n",
              "<table border=\"1\" class=\"dataframe\">\n",
              "  <thead>\n",
              "    <tr style=\"text-align: right;\">\n",
              "      <th></th>\n",
              "      <th>invested</th>\n",
              "      <th>fv</th>\n",
              "      <th>pv</th>\n",
              "    </tr>\n",
              "  </thead>\n",
              "  <tbody>\n",
              "    <tr>\n",
              "      <th>0</th>\n",
              "      <td>₹ 3,94,70,400</td>\n",
              "      <td>₹ 24,99,26,600</td>\n",
              "      <td>₹ 4,35,14,700</td>\n",
              "    </tr>\n",
              "  </tbody>\n",
              "</table>\n",
              "</div>\n",
              "      <button class=\"colab-df-convert\" onclick=\"convertToInteractive('df-dbf79522-468b-4c67-a458-deb7a403f07f')\"\n",
              "              title=\"Convert this dataframe to an interactive table.\"\n",
              "              style=\"display:none;\">\n",
              "        \n",
              "  <svg xmlns=\"http://www.w3.org/2000/svg\" height=\"24px\"viewBox=\"0 0 24 24\"\n",
              "       width=\"24px\">\n",
              "    <path d=\"M0 0h24v24H0V0z\" fill=\"none\"/>\n",
              "    <path d=\"M18.56 5.44l.94 2.06.94-2.06 2.06-.94-2.06-.94-.94-2.06-.94 2.06-2.06.94zm-11 1L8.5 8.5l.94-2.06 2.06-.94-2.06-.94L8.5 2.5l-.94 2.06-2.06.94zm10 10l.94 2.06.94-2.06 2.06-.94-2.06-.94-.94-2.06-.94 2.06-2.06.94z\"/><path d=\"M17.41 7.96l-1.37-1.37c-.4-.4-.92-.59-1.43-.59-.52 0-1.04.2-1.43.59L10.3 9.45l-7.72 7.72c-.78.78-.78 2.05 0 2.83L4 21.41c.39.39.9.59 1.41.59.51 0 1.02-.2 1.41-.59l7.78-7.78 2.81-2.81c.8-.78.8-2.07 0-2.86zM5.41 20L4 18.59l7.72-7.72 1.47 1.35L5.41 20z\"/>\n",
              "  </svg>\n",
              "      </button>\n",
              "      \n",
              "  <style>\n",
              "    .colab-df-container {\n",
              "      display:flex;\n",
              "      flex-wrap:wrap;\n",
              "      gap: 12px;\n",
              "    }\n",
              "\n",
              "    .colab-df-convert {\n",
              "      background-color: #E8F0FE;\n",
              "      border: none;\n",
              "      border-radius: 50%;\n",
              "      cursor: pointer;\n",
              "      display: none;\n",
              "      fill: #1967D2;\n",
              "      height: 32px;\n",
              "      padding: 0 0 0 0;\n",
              "      width: 32px;\n",
              "    }\n",
              "\n",
              "    .colab-df-convert:hover {\n",
              "      background-color: #E2EBFA;\n",
              "      box-shadow: 0px 1px 2px rgba(60, 64, 67, 0.3), 0px 1px 3px 1px rgba(60, 64, 67, 0.15);\n",
              "      fill: #174EA6;\n",
              "    }\n",
              "\n",
              "    [theme=dark] .colab-df-convert {\n",
              "      background-color: #3B4455;\n",
              "      fill: #D2E3FC;\n",
              "    }\n",
              "\n",
              "    [theme=dark] .colab-df-convert:hover {\n",
              "      background-color: #434B5C;\n",
              "      box-shadow: 0px 1px 3px 1px rgba(0, 0, 0, 0.15);\n",
              "      filter: drop-shadow(0px 1px 2px rgba(0, 0, 0, 0.3));\n",
              "      fill: #FFFFFF;\n",
              "    }\n",
              "  </style>\n",
              "\n",
              "      <script>\n",
              "        const buttonEl =\n",
              "          document.querySelector('#df-dbf79522-468b-4c67-a458-deb7a403f07f button.colab-df-convert');\n",
              "        buttonEl.style.display =\n",
              "          google.colab.kernel.accessAllowed ? 'block' : 'none';\n",
              "\n",
              "        async function convertToInteractive(key) {\n",
              "          const element = document.querySelector('#df-dbf79522-468b-4c67-a458-deb7a403f07f');\n",
              "          const dataTable =\n",
              "            await google.colab.kernel.invokeFunction('convertToInteractive',\n",
              "                                                     [key], {});\n",
              "          if (!dataTable) return;\n",
              "\n",
              "          const docLinkHtml = 'Like what you see? Visit the ' +\n",
              "            '<a target=\"_blank\" href=https://colab.research.google.com/notebooks/data_table.ipynb>data table notebook</a>'\n",
              "            + ' to learn more about interactive tables.';\n",
              "          element.innerHTML = '';\n",
              "          dataTable['output_type'] = 'display_data';\n",
              "          await google.colab.output.renderOutput(dataTable, element);\n",
              "          const docLink = document.createElement('div');\n",
              "          docLink.innerHTML = docLinkHtml;\n",
              "          element.appendChild(docLink);\n",
              "        }\n",
              "      </script>\n",
              "    </div>\n",
              "  </div>\n",
              "  "
            ]
          },
          "metadata": {},
          "execution_count": 3
        }
      ]
    },
    {
      "cell_type": "markdown",
      "source": [
        "SIP for target in given years with consideration of inflation"
      ],
      "metadata": {
        "id": "Sa7DevJqsHFU"
      }
    },
    {
      "cell_type": "code",
      "source": [
        "print(sip_target(10000000, 15, 0.12, 0.06))"
      ],
      "metadata": {
        "colab": {
          "base_uri": "https://localhost:8080/"
        },
        "id": "LmHaptB8rHH0",
        "outputId": "f67309e7-e697-48fa-ef19-df43a44be41f"
      },
      "execution_count": 4,
      "outputs": [
        {
          "output_type": "stream",
          "name": "stdout",
          "text": [
            "₹ 47,500\n"
          ]
        }
      ]
    }
  ]
}